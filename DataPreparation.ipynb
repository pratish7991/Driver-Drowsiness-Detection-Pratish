{
 "cells": [
  {
   "cell_type": "code",
   "execution_count": 2,
   "id": "dcc4813b-2688-4cd6-b684-e833b6a9122d",
   "metadata": {},
   "outputs": [],
   "source": [
    "import os\n",
    "import shutil\n",
    "import glob\n",
    "from tqdm import tqdm"
   ]
  },
  {
   "cell_type": "markdown",
   "id": "415cbd0f-4cb2-4e81-a008-35765efdbbb3",
   "metadata": {},
   "source": [
    "Data Set Link :-\n",
    "http://mrl.cs.vsb.cz/eyedataset"
   ]
  },
  {
   "cell_type": "markdown",
   "id": "eb0a80bd-0a50-471a-8c1a-c9be70c4a5fa",
   "metadata": {},
   "source": [
    "### Data Annotation\n",
    "\n",
    "subject ID:\n",
    "xxx\n",
    "\n",
    "image number:\n",
    "xxx\n",
    "\n",
    "gender:\n",
    "0 - male\n",
    "1 - famale\n",
    "\n",
    "glasses:\n",
    "0 - no\n",
    "1 - yes\n",
    "\n",
    "eye state:\n",
    "0 - close\n",
    "1 - open\n",
    "\n",
    "reflections:\n",
    "0 - none\n",
    "1 - low\n",
    "2 - high\n",
    "\n",
    "lighting conditions/image quality:\n",
    "0 - bad\n",
    "1 - good\n",
    "\n",
    "sensor type:\n",
    "01 - RealSense SR300 640x480\n",
    "02 - IDS Imaging, 1280x1024\n",
    "03 - Aptina Imagin 752x480\n",
    "\n",
    "example:\n",
    "s001_00123_0_0_0_0_0_01.png"
   ]
  },
  {
   "cell_type": "markdown",
   "id": "0adc9658-de82-4a09-b5df-95a6f6b1ab12",
   "metadata": {
    "tags": []
   },
   "source": [
    "# Data Preparation Steps "
   ]
  },
  {
   "cell_type": "markdown",
   "id": "f6e5608a-2c2a-41e5-b741-387fd430ff25",
   "metadata": {
    "tags": []
   },
   "source": [
    "### Spliting the data into Opened Eyes and Closed eyes\n"
   ]
  },
  {
   "cell_type": "code",
   "execution_count": 8,
   "id": "17a2708d-4a92-411d-b47d-a0f75b9743bf",
   "metadata": {},
   "outputs": [
    {
     "name": "stderr",
     "output_type": "stream",
     "text": [
      "0it [00:00, ?it/s]\n",
      "100%|██████████| 3242/3242 [00:03<00:00, 948.71it/s]  \n",
      "100%|██████████| 1114/1114 [00:00<00:00, 4368.32it/s] \n",
      "100%|██████████| 679/679 [00:00<00:00, 2135.07it/s]\n",
      "100%|██████████| 1069/1069 [00:00<00:00, 534220.30it/s]\n",
      "100%|██████████| 736/736 [00:00<00:00, 10822.72it/s]\n",
      "100%|██████████| 1012/1012 [00:00<00:00, 202337.48it/s]\n",
      "100%|██████████| 624/624 [00:00<00:00, 21515.26it/s]\n",
      "100%|██████████| 832/832 [00:00<00:00, 830871.65it/s]\n",
      "100%|██████████| 387/387 [00:00<00:00, 6449.39it/s]\n",
      "100%|██████████| 399/399 [00:00<00:00, 2447.65it/s]\n",
      "100%|██████████| 1648/1648 [00:00<00:00, 4655.01it/s] \n",
      "100%|██████████| 8728/8728 [00:10<00:00, 845.51it/s]  \n",
      "100%|██████████| 3605/3605 [00:01<00:00, 2422.53it/s] \n",
      "100%|██████████| 8884/8884 [00:13<00:00, 681.03it/s]  \n",
      "100%|██████████| 1132/1132 [00:00<00:00, 1395.70it/s]\n",
      "100%|██████████| 1889/1889 [00:00<00:00, 4433.93it/s] \n",
      "100%|██████████| 1648/1648 [00:00<00:00, 2171.11it/s] \n",
      "100%|██████████| 4410/4410 [00:01<00:00, 2615.46it/s] \n",
      "100%|██████████| 6175/6175 [00:06<00:00, 907.09it/s]  \n",
      "100%|██████████| 704/704 [00:01<00:00, 466.19it/s]\n",
      "100%|██████████| 987/987 [00:01<00:00, 555.70it/s] \n",
      "100%|██████████| 382/382 [00:00<00:00, 717.99it/s] \n",
      "100%|██████████| 522/522 [00:00<00:00, 534.80it/s]\n",
      "100%|██████████| 752/752 [00:01<00:00, 636.16it/s] \n",
      "100%|██████████| 1502/1502 [00:02<00:00, 518.25it/s]\n",
      "100%|██████████| 1246/1246 [00:01<00:00, 723.10it/s]\n",
      "100%|██████████| 665/665 [00:01<00:00, 471.60it/s] \n",
      "100%|██████████| 736/736 [00:01<00:00, 415.79it/s]\n",
      "100%|██████████| 1393/1393 [00:03<00:00, 452.39it/s]\n",
      "100%|██████████| 1384/1384 [00:02<00:00, 558.47it/s]\n",
      "100%|██████████| 1738/1738 [00:03<00:00, 472.25it/s]\n",
      "100%|██████████| 6162/6162 [00:14<00:00, 421.96it/s]\n",
      "100%|██████████| 681/681 [00:01<00:00, 470.59it/s] \n",
      "100%|██████████| 739/739 [00:01<00:00, 479.52it/s] \n",
      "100%|██████████| 642/642 [00:01<00:00, 399.22it/s]\n",
      "100%|██████████| 6193/6193 [00:10<00:00, 593.27it/s]  \n",
      "100%|██████████| 10257/10257 [00:10<00:00, 978.37it/s] \n"
     ]
    }
   ],
   "source": [
    "Raw_DIR=r'C:\\Users\\Hp\\Desktop\\mrlEyes_2018_01\\myEyes_2018_01'\n",
    "for dirpath, dirname , filenames in os.walk(Raw_DIR):\n",
    "    for i in tqdm([f for f in filenames if f.endswith('png')]):\n",
    "        # print(filenames)\n",
    "        if (i.split('_')[4] == '0'):\n",
    "             shutil.copy(src=dirpath+'/'+i,dst=r'C:\\Users\\Hp\\Desktop\\mrlEyes_2018_01\\Prepared_Data\\ClosedEyes')\n",
    "        elif (i.split('_')[4] == '1'):\n",
    "             shutil.copy(src=dirpath+'/'+i,dst=r'C:\\Users\\Hp\\Desktop\\mrlEyes_2018_01\\Prepared_Data\\OpenEyes')"
   ]
  },
  {
   "cell_type": "markdown",
   "id": "80c6d247-9307-461b-a092-e29720fa3872",
   "metadata": {},
   "source": [
    "### Spliting the Opened Eyes Data and Closed Eyes data into 90% training and 10% Testing data"
   ]
  },
  {
   "cell_type": "code",
   "execution_count": 5,
   "id": "1b40afff-739b-4d81-9803-fa02e08be8b1",
   "metadata": {},
   "outputs": [
    {
     "name": "stderr",
     "output_type": "stream",
     "text": [
      " 90%|█████████ | 37776/41946 [00:46<00:05, 815.43it/s] \n"
     ]
    }
   ],
   "source": [
    "Raw_DIR=r'C:\\Users\\Hp\\Desktop\\mrlEyes_2018_01\\Prepared_Data\\ClosedEyes'\n",
    "for dirpath, dirname , filenames in os.walk(Raw_DIR):\n",
    "    h=0\n",
    "    for i in tqdm([f for f in filenames if f.endswith('png')]):\n",
    "        # print(filenames)\n",
    "        h+=1\n",
    "        if (h>41974*0.9):\n",
    "            break\n",
    "        shutil.move(src=dirpath+'/'+i,dst=r'C:\\Users\\Hp\\Desktop\\mrlEyes_2018_01\\Prepared_Data\\Train\\Closed Eye')\n",
    "        "
   ]
  },
  {
   "cell_type": "code",
   "execution_count": 6,
   "id": "f9aaedfa-4416-4c30-a419-d46385870b0d",
   "metadata": {},
   "outputs": [
    {
     "name": "stderr",
     "output_type": "stream",
     "text": [
      "100%|██████████| 4170/4170 [00:04<00:00, 977.19it/s] \n"
     ]
    }
   ],
   "source": [
    "Raw_DIR=r'C:\\Users\\Hp\\Desktop\\mrlEyes_2018_01\\Prepared_Data\\ClosedEyes'\n",
    "for dirpath, dirname , filenames in os.walk(Raw_DIR):\n",
    "    h=0\n",
    "    for i in tqdm([f for f in filenames if f.endswith('png')]):\n",
    "        # print(filenames)\n",
    "\n",
    "        shutil.move(src=dirpath+'/'+i,dst=r'C:\\Users\\Hp\\Desktop\\mrlEyes_2018_01\\Prepared_Data\\Test\\Closed Eye')"
   ]
  },
  {
   "cell_type": "code",
   "execution_count": 9,
   "id": "2c440f74-f7de-47e7-8c8c-b90144e6c58b",
   "metadata": {},
   "outputs": [
    {
     "name": "stderr",
     "output_type": "stream",
     "text": [
      " 90%|████████▉ | 38656/42952 [00:51<00:05, 754.81it/s]\n"
     ]
    }
   ],
   "source": [
    "Raw_DIR=r'C:\\Users\\Hp\\Desktop\\mrlEyes_2018_01\\Prepared_Data\\OpenEyes'\n",
    "for dirpath, dirname , filenames in os.walk(Raw_DIR):\n",
    "    h=0\n",
    "    for i in tqdm([f for f in filenames if f.endswith('png')]):\n",
    "        # print(filenames)\n",
    "        h+=1\n",
    "        if (h>42952*0.9):\n",
    "            break\n",
    "        shutil.move(src=dirpath+'/'+i,dst=r'C:\\Users\\Hp\\Desktop\\mrlEyes_2018_01\\Prepared_Data\\Train\\Open Eyes')\n",
    "        "
   ]
  },
  {
   "cell_type": "code",
   "execution_count": 10,
   "id": "33f19298-a13e-4e3c-a555-28b08f6cec5f",
   "metadata": {},
   "outputs": [
    {
     "name": "stderr",
     "output_type": "stream",
     "text": [
      "100%|██████████| 4296/4296 [00:05<00:00, 856.91it/s]\n"
     ]
    }
   ],
   "source": [
    "Raw_DIR=r'C:\\Users\\Hp\\Desktop\\mrlEyes_2018_01\\Prepared_Data\\OpenEyes'\n",
    "for dirpath, dirname , filenames in os.walk(Raw_DIR):\n",
    "    \n",
    "    for i in tqdm([f for f in filenames if f.endswith('png')]):\n",
    "        # print(filenames)\n",
    " \n",
    "        shutil.move(src=dirpath+'/'+i,dst=r'C:\\Users\\Hp\\Desktop\\mrlEyes_2018_01\\Prepared_Data\\Test\\Open Eyes')\n",
    "        "
   ]
  },
  {
   "cell_type": "code",
   "execution_count": null,
   "id": "897a4e5d-6823-4870-8c09-fbcf19d98495",
   "metadata": {},
   "outputs": [],
   "source": []
  }
 ],
 "metadata": {
  "kernelspec": {
   "display_name": "Python 3 (ipykernel)",
   "language": "python",
   "name": "python3"
  },
  "language_info": {
   "codemirror_mode": {
    "name": "ipython",
    "version": 3
   },
   "file_extension": ".py",
   "mimetype": "text/x-python",
   "name": "python",
   "nbconvert_exporter": "python",
   "pygments_lexer": "ipython3",
   "version": "3.9.12"
  }
 },
 "nbformat": 4,
 "nbformat_minor": 5
}
